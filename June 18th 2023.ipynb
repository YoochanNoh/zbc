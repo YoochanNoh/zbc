{
 "cells": [
  {
   "cell_type": "code",
   "execution_count": 16,
   "id": "de28311d",
   "metadata": {},
   "outputs": [
    {
     "name": "stdout",
     "output_type": "stream",
     "text": [
      "[1, 2, 3, 4, 5]\n",
      "[1 2 3 4 5]\n",
      "5\n",
      "(5,)\n",
      "<class 'numpy.ndarray'>\n",
      "[1.  2.  3.  4.5 5. ]\n",
      "int64\n",
      "float64\n",
      "[[1 2 3]\n",
      " [4 5 6]\n",
      " [7 8 9]]\n",
      "(3, 3)\n",
      "[[ 1  2  3]\n",
      " [ 4  5  6]\n",
      " [ 7  8  9]\n",
      " [10 11 12]]\n",
      "(4, 3)\n"
     ]
    }
   ],
   "source": [
    "#Numpy and Array\n",
    "#Numpy --> it is library in Python that provides support for the multi-dimensional arrays/matrices\n",
    "import numpy as np\n",
    "\n",
    "data = [1,2,3,4,5]\n",
    "\n",
    "arr1 = np.array(data) #convert list 'data' into array\n",
    "\n",
    "print(data)\n",
    "print(arr1)\n",
    "print(len(data))\n",
    "print(arr1.shape)\n",
    "print(type(arr1))\n",
    "\n",
    "#List can hold different types of values, Array can hold only one type\n",
    "lst = [1,2,3,4.5,5] #integer + float\n",
    "arr2 = np.array(lst) #now the types of values of arr2 all changed to float\n",
    "print(arr2)\n",
    "print(arr1.dtype) \n",
    "print(arr2.dtype) # 2^64\n",
    "\n",
    "arr3 = np.array([[1,2,3],[4,5,6],[7,8,9]])\n",
    "print(arr3)\n",
    "print(arr3.shape)\n",
    "\n",
    "arr4 = np.array([[1,2,3],[4,5,6],[7,8,9],[10,11,12]])\n",
    "print(arr4)\n",
    "print(arr4.shape)"
   ]
  },
  {
   "cell_type": "code",
   "execution_count": 19,
   "id": "7f839879",
   "metadata": {},
   "outputs": [
    {
     "data": {
      "text/plain": [
       "array([0., 0., 0., 0., 0., 0., 0., 0., 0., 0.])"
      ]
     },
     "execution_count": 19,
     "metadata": {},
     "output_type": "execute_result"
    }
   ],
   "source": [
    "#lists have a dynamic size; arrays have static size\n",
    "a = np.zeros(10)\n",
    "a"
   ]
  },
  {
   "cell_type": "code",
   "execution_count": 21,
   "id": "c3d9c4d3",
   "metadata": {},
   "outputs": [
    {
     "data": {
      "text/plain": [
       "array([[0., 0., 0., 0., 0.],\n",
       "       [0., 0., 0., 0., 0.],\n",
       "       [0., 0., 0., 0., 0.]])"
      ]
     },
     "execution_count": 21,
     "metadata": {},
     "output_type": "execute_result"
    }
   ],
   "source": [
    "a = np.zeros((3,5))\n",
    "a"
   ]
  },
  {
   "cell_type": "code",
   "execution_count": 22,
   "id": "68e2fcc9",
   "metadata": {},
   "outputs": [
    {
     "data": {
      "text/plain": [
       "array([1., 1., 1., 1., 1., 1., 1., 1., 1., 1.])"
      ]
     },
     "execution_count": 22,
     "metadata": {},
     "output_type": "execute_result"
    }
   ],
   "source": [
    "a = np.ones(10)\n",
    "a"
   ]
  },
  {
   "cell_type": "code",
   "execution_count": 23,
   "id": "3b9b14b5",
   "metadata": {},
   "outputs": [
    {
     "data": {
      "text/plain": [
       "array([[1., 0., 0., 0., 0., 0., 0., 0., 0., 0.],\n",
       "       [0., 1., 0., 0., 0., 0., 0., 0., 0., 0.],\n",
       "       [0., 0., 1., 0., 0., 0., 0., 0., 0., 0.],\n",
       "       [0., 0., 0., 1., 0., 0., 0., 0., 0., 0.],\n",
       "       [0., 0., 0., 0., 1., 0., 0., 0., 0., 0.],\n",
       "       [0., 0., 0., 0., 0., 1., 0., 0., 0., 0.],\n",
       "       [0., 0., 0., 0., 0., 0., 1., 0., 0., 0.],\n",
       "       [0., 0., 0., 0., 0., 0., 0., 1., 0., 0.],\n",
       "       [0., 0., 0., 0., 0., 0., 0., 0., 1., 0.],\n",
       "       [0., 0., 0., 0., 0., 0., 0., 0., 0., 1.]])"
      ]
     },
     "execution_count": 23,
     "metadata": {},
     "output_type": "execute_result"
    }
   ],
   "source": [
    "a = np.identity(10)\n",
    "a"
   ]
  },
  {
   "cell_type": "code",
   "execution_count": 26,
   "id": "5a3e1aa0",
   "metadata": {},
   "outputs": [
    {
     "data": {
      "text/plain": [
       "array([0, 1, 2, 3, 4, 5, 6, 7, 8, 9])"
      ]
     },
     "execution_count": 26,
     "metadata": {},
     "output_type": "execute_result"
    }
   ],
   "source": [
    "# 0 1 2 3 4 5...\n",
    "a = np.arange(10) # for loop 이랑 똑같다 (range in for loop)\n",
    "a"
   ]
  },
  {
   "cell_type": "code",
   "execution_count": 28,
   "id": "a1fea2d3",
   "metadata": {},
   "outputs": [
    {
     "data": {
      "text/plain": [
       "array([3, 4, 5, 6, 7, 8, 9])"
      ]
     },
     "execution_count": 28,
     "metadata": {},
     "output_type": "execute_result"
    }
   ],
   "source": [
    "a = np.arange(3,10)\n",
    "a"
   ]
  },
  {
   "cell_type": "code",
   "execution_count": 29,
   "id": "721f11da",
   "metadata": {},
   "outputs": [
    {
     "data": {
      "text/plain": [
       "array([3, 5, 7, 9])"
      ]
     },
     "execution_count": 29,
     "metadata": {},
     "output_type": "execute_result"
    }
   ],
   "source": [
    "a = np.arange(3,10,2)\n",
    "a"
   ]
  },
  {
   "cell_type": "code",
   "execution_count": 31,
   "id": "4b6a6cc3",
   "metadata": {},
   "outputs": [
    {
     "name": "stdout",
     "output_type": "stream",
     "text": [
      "[1, 2, 3, 4, 5, 6]\n",
      "[5 7 9]\n"
     ]
    }
   ],
   "source": [
    "#Array is just same as matrix\n",
    "lst = [1,2,3]\n",
    "lst2 = [4,5,6]\n",
    "\n",
    "arr = np.array(lst) #[1,2,3]\n",
    "arr2 = np.array(lst2) #[4,5,6]\n",
    "\n",
    "print(lst+lst2)\n",
    "print(arr+arr2) #[1+4,2+5,3+6]\n",
    "\n",
    "#Matrix A : 2 x 3 ;;; Matrix B : 2 x 3 cannot multiply\n",
    "#Matrix A : 3 x 4 ;;; Matrix B : 4 x 10 can multiply"
   ]
  },
  {
   "cell_type": "code",
   "execution_count": 41,
   "id": "adf83afc",
   "metadata": {},
   "outputs": [
    {
     "name": "stdout",
     "output_type": "stream",
     "text": [
      "1\n",
      "[1 2 3 4]\n",
      "[[ 1  2  3  4]\n",
      " [ 5  6  7  8]\n",
      " [ 9 10 11 12]]\n",
      "5\n",
      "5\n",
      "[5 6 7 8]\n",
      "[6 7 8]\n"
     ]
    }
   ],
   "source": [
    "#indexing in array is just same as list\n",
    "\n",
    "lst = [1,2,3,4,5,6,7]\n",
    "lst2 = [4,5,6,7,8]\n",
    "\n",
    "arr = np.array(lst) #[1,2,3]\n",
    "arr2 = np.array(lst2) #[4,5,6]\n",
    "\n",
    "print(arr[0])\n",
    "print(arr[0:4])\n",
    "\n",
    "arr2 = np.array([[1,2,3,4],[5,6,7,8],[9,10,11,12]])\n",
    "print(arr2)\n",
    "print(arr2[1][0])\n",
    "print(arr2[1,0])\n",
    "print(arr2[1,:]) #[5,6,7,8]\n",
    "print(arr2[1, 1:]) #[6,7,8]"
   ]
  },
  {
   "cell_type": "code",
   "execution_count": 42,
   "id": "bff169ed",
   "metadata": {},
   "outputs": [
    {
     "data": {
      "text/plain": [
       "array(['Scott', 'Alice', 'Kim', 'Lee'], dtype='<U5')"
      ]
     },
     "execution_count": 42,
     "metadata": {},
     "output_type": "execute_result"
    }
   ],
   "source": [
    "names = np.array([\"Scott\",\"Alice\",\"Kim\",\"Lee\"])\n",
    "names"
   ]
  },
  {
   "cell_type": "code",
   "execution_count": 43,
   "id": "217d01b8",
   "metadata": {},
   "outputs": [
    {
     "data": {
      "text/plain": [
       "array([[0.88136746, 0.42551163, 0.43808086, 0.10709863],\n",
       "       [0.50683577, 0.31091327, 0.61815769, 0.77046725],\n",
       "       [0.30062359, 0.14844856, 0.90457478, 0.61376849],\n",
       "       [0.93053228, 0.77247188, 0.60982561, 0.16469546]])"
      ]
     },
     "execution_count": 43,
     "metadata": {},
     "output_type": "execute_result"
    }
   ],
   "source": [
    "# create an array with the random number in 0~1\n",
    "data = np.random.rand(4,4)\n",
    "data"
   ]
  },
  {
   "cell_type": "code",
   "execution_count": 50,
   "id": "60262126",
   "metadata": {},
   "outputs": [
    {
     "name": "stdout",
     "output_type": "stream",
     "text": [
      "[21 14 26 55 66 53 25 76 49 67]\n",
      "[[74 40  2 96 21 26 24 30 59  8]\n",
      " [20 84 12  6 52  1 40 99 97 20]\n",
      " [11 13 47 55 37 18 77 71 28 58]\n",
      " [77 89 87 66 59 54 40 27 39 63]\n",
      " [99 17  7 79 82 57  4 20 67 29]\n",
      " [74 75 88 67 53 37 55 88  3 49]\n",
      " [15 13 86  5 50 34 72 99 16 29]\n",
      " [ 2 69 28 17 75 37 67 93  3 21]\n",
      " [36 71  7 60 64  2 19  3 95  5]\n",
      " [37 82 80 19 59  7 27 57 40 75]]\n"
     ]
    }
   ],
   "source": [
    "data = np.random.randint(1,101, size = 10) #generate 10 integers between 1-100\n",
    "print(data)\n",
    "data2 = np.random.randint(1,101, size = (10,10)) #generate 10 by 10 integers between 1-100\n",
    "print(data2)"
   ]
  },
  {
   "cell_type": "code",
   "execution_count": 53,
   "id": "34b45338",
   "metadata": {},
   "outputs": [
    {
     "name": "stdout",
     "output_type": "stream",
     "text": [
      "452\n",
      "4553\n"
     ]
    }
   ],
   "source": [
    "x = np.sum(data)\n",
    "print(x)\n",
    "y = np.sum(data2)\n",
    "print(y)"
   ]
  },
  {
   "cell_type": "code",
   "execution_count": 56,
   "id": "9f2275e5",
   "metadata": {},
   "outputs": [
    {
     "name": "stdout",
     "output_type": "stream",
     "text": [
      "[380 431 415 601 461 589 419 412 362 483]\n",
      "[445 553 444 470 552 273 425 587 447 357]\n"
     ]
    }
   ],
   "source": [
    "x = np.sum(data2, axis=1) #add every number in same row\n",
    "print(x)\n",
    "x = np.sum(data2, axis=0) #add every number in same column\n",
    "print(x)"
   ]
  },
  {
   "cell_type": "code",
   "execution_count": 59,
   "id": "47744886",
   "metadata": {},
   "outputs": [
    {
     "data": {
      "text/plain": [
       "45.53"
      ]
     },
     "execution_count": 59,
     "metadata": {},
     "output_type": "execute_result"
    }
   ],
   "source": [
    "x = np.mean(data2) #get average\n",
    "x"
   ]
  },
  {
   "cell_type": "code",
   "execution_count": 60,
   "id": "013d8afe",
   "metadata": {},
   "outputs": [
    {
     "data": {
      "text/plain": [
       "array([38. , 43.1, 41.5, 60.1, 46.1, 58.9, 41.9, 41.2, 36.2, 48.3])"
      ]
     },
     "execution_count": 60,
     "metadata": {},
     "output_type": "execute_result"
    }
   ],
   "source": [
    "x = np.mean(data2, axis = 1) #calculate mean in every row\n",
    "x"
   ]
  },
  {
   "cell_type": "code",
   "execution_count": 62,
   "id": "039fc5bf",
   "metadata": {},
   "outputs": [
    {
     "data": {
      "text/plain": [
       "99"
      ]
     },
     "execution_count": 62,
     "metadata": {},
     "output_type": "execute_result"
    }
   ],
   "source": [
    "x = np.max(data2) #Find the maximum number in array 'data2'\n",
    "x"
   ]
  },
  {
   "cell_type": "code",
   "execution_count": 65,
   "id": "ae7e8145",
   "metadata": {},
   "outputs": [
    {
     "data": {
      "text/plain": [
       "array([ 2, 13,  2,  5, 21,  1,  4,  3,  3,  5])"
      ]
     },
     "execution_count": 65,
     "metadata": {},
     "output_type": "execute_result"
    }
   ],
   "source": [
    "x = np.min(data2, axis = 0) #minimum in each column\n",
    "x"
   ]
  },
  {
   "cell_type": "code",
   "execution_count": 67,
   "id": "9f51559a",
   "metadata": {},
   "outputs": [
    {
     "data": {
      "text/plain": [
       "17"
      ]
     },
     "execution_count": 67,
     "metadata": {},
     "output_type": "execute_result"
    }
   ],
   "source": [
    "x = np.argmax(data2) #find the index of maximum number in array 'data2'\n",
    "x"
   ]
  },
  {
   "cell_type": "code",
   "execution_count": 70,
   "id": "60521f46",
   "metadata": {},
   "outputs": [
    {
     "name": "stdout",
     "output_type": "stream",
     "text": [
      "[3 4 5 2 1 6]\n",
      "[1 2 3 4 5 6]\n"
     ]
    }
   ],
   "source": [
    "lst = [3,4,5,2,1,6]\n",
    "arr = np.array(lst)\n",
    "print(arr)\n",
    "arr = np.sort(arr) #sort in ascending order\n",
    "print(arr)"
   ]
  },
  {
   "cell_type": "code",
   "execution_count": 71,
   "id": "dd1e3681",
   "metadata": {},
   "outputs": [
    {
     "data": {
      "text/plain": [
       "array([[1, 2, 3],\n",
       "       [4, 5, 6]])"
      ]
     },
     "execution_count": 71,
     "metadata": {},
     "output_type": "execute_result"
    }
   ],
   "source": [
    "shape_arr = arr.reshape((2,3))\n",
    "shape_arr"
   ]
  },
  {
   "cell_type": "code",
   "execution_count": 72,
   "id": "b019079c",
   "metadata": {},
   "outputs": [
    {
     "data": {
      "text/plain": [
       "array([ 2,  4,  6,  8, 10])"
      ]
     },
     "execution_count": 72,
     "metadata": {},
     "output_type": "execute_result"
    }
   ],
   "source": [
    "#Broadcasting --> Numpy allows arrays of different shapes to be used in mathematical operations\n",
    "a = np.array([1,2,3,4,5]) * 2\n",
    "# [1,2,3,4,5] * [2,\n",
    "#                2,\n",
    "#                2,\n",
    "#                2,\n",
    "#                2,]\n",
    "a"
   ]
  },
  {
   "cell_type": "code",
   "execution_count": 73,
   "id": "e7268fe6",
   "metadata": {},
   "outputs": [
    {
     "name": "stdout",
     "output_type": "stream",
     "text": [
      "[[0. 1. 2. 3.]\n",
      " [0. 1. 2. 3.]\n",
      " [0. 1. 2. 3.]]\n"
     ]
    }
   ],
   "source": [
    "print(np.ones((3,4)) * np.arange(4))\n",
    "# 1 1 1 1\n",
    "# 1 1 1 1   x  [0,1,2,3]\n",
    "# 1 1 1 1"
   ]
  },
  {
   "cell_type": "code",
   "execution_count": 75,
   "id": "23f0583a",
   "metadata": {},
   "outputs": [
    {
     "name": "stdout",
     "output_type": "stream",
     "text": [
      "Requirement already satisfied: pandas in /Users/yoochannoh/anaconda3/lib/python3.10/site-packages (1.5.3)\r\n",
      "Requirement already satisfied: python-dateutil>=2.8.1 in /Users/yoochannoh/anaconda3/lib/python3.10/site-packages (from pandas) (2.8.2)\r\n",
      "Requirement already satisfied: pytz>=2020.1 in /Users/yoochannoh/anaconda3/lib/python3.10/site-packages (from pandas) (2022.7)\r\n",
      "Requirement already satisfied: numpy>=1.21.0 in /Users/yoochannoh/anaconda3/lib/python3.10/site-packages (from pandas) (1.23.5)\r\n",
      "Requirement already satisfied: six>=1.5 in /Users/yoochannoh/anaconda3/lib/python3.10/site-packages (from python-dateutil>=2.8.1->pandas) (1.16.0)\r\n"
     ]
    }
   ],
   "source": [
    "# Install pandas\n",
    "!pip install pandas"
   ]
  },
  {
   "cell_type": "code",
   "execution_count": 87,
   "id": "838151c0",
   "metadata": {},
   "outputs": [
    {
     "name": "stdout",
     "output_type": "stream",
     "text": [
      "{'Name': ['Scott', 'Jason', 'Alice', 'Bob'], 'Age': [17, 18, 18, 16], 'GPA': [3.4, 3.2, 4.0, 2.7]}\n",
      "['Scott', 'Jason', 'Alice', 'Bob']\n",
      "Scott\n",
      "    Name  Age  GPA\n",
      "0  Scott   17  3.4\n",
      "1  Jason   18  3.2\n",
      "2  Alice   18  4.0\n",
      "3    Bob   16  2.7\n",
      "<class 'pandas.core.frame.DataFrame'>\n",
      "<class 'pandas.core.frame.DataFrame'>\n",
      "RangeIndex: 4 entries, 0 to 3\n",
      "Data columns (total 3 columns):\n",
      " #   Column  Non-Null Count  Dtype  \n",
      "---  ------  --------------  -----  \n",
      " 0   Name    4 non-null      object \n",
      " 1   Age     4 non-null      int64  \n",
      " 2   GPA     4 non-null      float64\n",
      "dtypes: float64(1), int64(1), object(1)\n",
      "memory usage: 224.0+ bytes\n",
      "None\n",
      "3.325\n",
      "3.32\n",
      "count    4.000000\n",
      "mean     3.325000\n",
      "std      0.537742\n",
      "min      2.700000\n",
      "25%      3.075000\n",
      "50%      3.300000\n",
      "75%      3.550000\n",
      "max      4.000000\n",
      "Name: GPA, dtype: float64\n"
     ]
    }
   ],
   "source": [
    "import pandas as pd\n",
    "#Pandas provides new data structure other than list, array, set, dictionary, tuple\n",
    "\n",
    "#Series -> Series is a 1d-array-like data structure provided by pandas library\n",
    "#Dataframe -> Dataframe is a 2d-array-like data structure provided by pandas library\n",
    "\n",
    "data = {\n",
    "    \"Name\": [\"Scott\",\"Jason\",\"Alice\",\"Bob\"],\n",
    "    \"Age\": [17,18,18,16],\n",
    "    \"GPA\": [3.4,3.2,4.0,2.7]\n",
    "}\n",
    "print(data)\n",
    "print(data[\"Name\"])\n",
    "print(data[\"Name\"][0])\n",
    "\n",
    "#DataFrame\n",
    "df = pd.DataFrame(data)\n",
    "print(df)\n",
    "print(type(df)) #type if DataFrame\n",
    "print(df.info())\n",
    "print(df[\"GPA\"].mean())\n",
    "print(round(df[\"GPA\"].mean(),2))\n",
    "print(df[\"GPA\"].describe())\n",
    "#std = standard deviation"
   ]
  },
  {
   "cell_type": "code",
   "execution_count": null,
   "id": "aa7fa846",
   "metadata": {},
   "outputs": [],
   "source": []
  }
 ],
 "metadata": {
  "kernelspec": {
   "display_name": "Python 3 (ipykernel)",
   "language": "python",
   "name": "python3"
  },
  "language_info": {
   "codemirror_mode": {
    "name": "ipython",
    "version": 3
   },
   "file_extension": ".py",
   "mimetype": "text/x-python",
   "name": "python",
   "nbconvert_exporter": "python",
   "pygments_lexer": "ipython3",
   "version": "3.10.9"
  }
 },
 "nbformat": 4,
 "nbformat_minor": 5
}
